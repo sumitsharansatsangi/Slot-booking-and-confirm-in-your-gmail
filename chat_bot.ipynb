{
  "nbformat": 4,
  "nbformat_minor": 0,
  "metadata": {
    "colab": {
      "name": "Untitled6.ipynb",
      "provenance": [],
      "collapsed_sections": []
    },
    "kernelspec": {
      "name": "python3",
      "display_name": "Python 3"
    }
  },
  "cells": [
    {
      "cell_type": "code",
      "metadata": {
        "id": "m3CFY7rDjx3I",
        "colab_type": "code",
        "outputId": "04d2746a-5f25-43e7-c0e9-dbf739aee9de",
        "colab": {
          "base_uri": "https://localhost:8080/",
          "height": 34
        }
      },
      "source": [
        "from google.colab import drive\n",
        "drive.mount(\"/content/drive\")"
      ],
      "execution_count": 0,
      "outputs": [
        {
          "output_type": "stream",
          "text": [
            "Drive already mounted at /content/drive; to attempt to forcibly remount, call drive.mount(\"/content/drive\", force_remount=True).\n"
          ],
          "name": "stdout"
        }
      ]
    },
    {
      "cell_type": "code",
      "metadata": {
        "id": "K_GkgTzhrV27",
        "colab_type": "code",
        "colab": {}
      },
      "source": [
        "import os\n",
        "path = '/content/drive/My Drive/'\n",
        "os.chdir(path)"
      ],
      "execution_count": 0,
      "outputs": []
    },
    {
      "cell_type": "code",
      "metadata": {
        "id": "rcGRB9FKqMrr",
        "colab_type": "code",
        "outputId": "f706faa0-8a0e-423a-d405-5dd4817a4b2e",
        "colab": {
          "base_uri": "https://localhost:8080/",
          "height": 139
        }
      },
      "source": [
        "import smtplib\n",
        "import time\n",
        "import pandas as pd\n",
        "df=pd.read_csv(\"data.csv\")\n",
        "df1=pd.read_csv(\"customardata.csv\")\n",
        "for i in range(len(df1)):\n",
        "    p_name=df1[\"provider_name\"][i]\n",
        "    prof_name=df1[\"profession\"][i]\n",
        "    k=0\n",
        "    for j in range(len(df[\"name\"])):\n",
        "        if df[\"name\"][j]==p_name and prof_name==df[\"profession\"][j] and ((df[\"bookingStartTimeperiod\"][j]<=df1[\"book_start_time\"][i] and df[\"bookingEndTimeperiod\"][j]>=df1[\"book_start_time\"][i])or(df[\"bookingStartTimeperiod\"][j]<=df1[\"book_end_time\"][i] and df[\"bookingEndTimeperiod\"][j]>=df1[\"book_end_time\"][i])):\n",
        "            k=1\n",
        "            break        \n",
        "    if(k==0):\n",
        "        print(\"Available..your solt  booking is in progresss....\")\n",
        "        \n",
        "        b=pd.DataFrame([[(df[\"ID\"][len(df)-1])+1,p_name,prof_name,df1[\"location\"][i],df1[\"book_start_time\"][i],df1[\"book_end_time\"][i],df1[\"cust_ID\"][i]]])\n",
        "        b.columns=df.columns\n",
        "        df=df.append(b)\n",
        "        df.to_csv(\"data.csv\",index=False)\n",
        "        time.sleep(2)\n",
        "        print(\"\\nslot booked !\")\n",
        "        gmailaddress =\"ankushbanik1234@gmail.com\"\n",
        "        gmailpassword = \"9091203984\"\n",
        "        mailto1 = df1[\"email_id\"][i]\n",
        "      #  mailto2=\"serviceprovidergmail\"\n",
        "        msg = \"your slot is booked \"\n",
        "        try:\n",
        "            mailServer = smtplib.SMTP('smtp.gmail.com' , 587)\n",
        "            # ...send emails\n",
        "            mailServer.starttls()\n",
        "            mailServer.login(gmailaddress , gmailpassword)\n",
        "            mailServer.sendmail(gmailaddress, mailto1 , msg)\n",
        "           # mailServer.sendmail(gmailaddress, mailto2 , msg)\n",
        "            print(\" \\n Sent!\")\n",
        "            mailServer.quit()\n",
        "        except:\n",
        "            print( 'Something went wrong...')\n",
        "       \n",
        "    else:\n",
        "        print(\"service provider is not avaiable \")"
      ],
      "execution_count": 0,
      "outputs": [
        {
          "output_type": "stream",
          "text": [
            "service provider is not avaiable \n",
            "service provider is not avaiable \n",
            "Available..your solt  booking is in progresss....\n",
            "\n",
            "slot booked !\n",
            " \n",
            " Sent!\n"
          ],
          "name": "stdout"
        }
      ]
    },
    {
      "cell_type": "code",
      "metadata": {
        "id": "OH8AwpcXqnzO",
        "colab_type": "code",
        "outputId": "6a43a92b-b50b-48a7-c5d2-0f90ca5405d4",
        "colab": {
          "base_uri": "https://localhost:8080/",
          "height": 238
        }
      },
      "source": [
        "df"
      ],
      "execution_count": 0,
      "outputs": [
        {
          "output_type": "execute_result",
          "data": {
            "text/html": [
              "<div>\n",
              "<style scoped>\n",
              "    .dataframe tbody tr th:only-of-type {\n",
              "        vertical-align: middle;\n",
              "    }\n",
              "\n",
              "    .dataframe tbody tr th {\n",
              "        vertical-align: top;\n",
              "    }\n",
              "\n",
              "    .dataframe thead th {\n",
              "        text-align: right;\n",
              "    }\n",
              "</style>\n",
              "<table border=\"1\" class=\"dataframe\">\n",
              "  <thead>\n",
              "    <tr style=\"text-align: right;\">\n",
              "      <th></th>\n",
              "      <th>ID</th>\n",
              "      <th>name</th>\n",
              "      <th>profession</th>\n",
              "      <th>location</th>\n",
              "      <th>bookingStartTimeperiod</th>\n",
              "      <th>bookingEndTimeperiod</th>\n",
              "      <th>customerId</th>\n",
              "    </tr>\n",
              "  </thead>\n",
              "  <tbody>\n",
              "    <tr>\n",
              "      <th>0</th>\n",
              "      <td>101</td>\n",
              "      <td>sumit</td>\n",
              "      <td>doctor</td>\n",
              "      <td>bangalore</td>\n",
              "      <td>2019-10-02 11:20:05</td>\n",
              "      <td>2019-10-02 13:25:35</td>\n",
              "      <td>2001</td>\n",
              "    </tr>\n",
              "    <tr>\n",
              "      <th>1</th>\n",
              "      <td>102</td>\n",
              "      <td>raja</td>\n",
              "      <td>plumber</td>\n",
              "      <td>chennai</td>\n",
              "      <td>2019-08-19 12:03:01</td>\n",
              "      <td>2019-08-19 14:25:35</td>\n",
              "      <td>2002</td>\n",
              "    </tr>\n",
              "    <tr>\n",
              "      <th>2</th>\n",
              "      <td>103</td>\n",
              "      <td>rahul</td>\n",
              "      <td>doctor</td>\n",
              "      <td>delhi</td>\n",
              "      <td>2019-07-23 13:05:02</td>\n",
              "      <td>2019-07-23 13:25:35</td>\n",
              "      <td>2001</td>\n",
              "    </tr>\n",
              "    <tr>\n",
              "      <th>3</th>\n",
              "      <td>104</td>\n",
              "      <td>sumit</td>\n",
              "      <td>doctor</td>\n",
              "      <td>bangalore</td>\n",
              "      <td>2019-12-12 13:05</td>\n",
              "      <td>2019-12-12 14:05</td>\n",
              "      <td>2001</td>\n",
              "    </tr>\n",
              "    <tr>\n",
              "      <th>4</th>\n",
              "      <td>105</td>\n",
              "      <td>satyam</td>\n",
              "      <td>carpenter</td>\n",
              "      <td>bangalore</td>\n",
              "      <td>2019-12-12 13:05</td>\n",
              "      <td>2019-12-12 14:05</td>\n",
              "      <td>2001</td>\n",
              "    </tr>\n",
              "    <tr>\n",
              "      <th>5</th>\n",
              "      <td>106</td>\n",
              "      <td>rajesh</td>\n",
              "      <td>electrician</td>\n",
              "      <td>Delhi</td>\n",
              "      <td>2019-12-10 13:05</td>\n",
              "      <td>2019-12-10 14:05</td>\n",
              "      <td>2002</td>\n",
              "    </tr>\n",
              "  </tbody>\n",
              "</table>\n",
              "</div>"
            ],
            "text/plain": [
              "    ID    name  ... bookingEndTimeperiod customerId\n",
              "0  101   sumit  ...  2019-10-02 13:25:35       2001\n",
              "1  102    raja  ...  2019-08-19 14:25:35       2002\n",
              "2  103   rahul  ...  2019-07-23 13:25:35       2001\n",
              "3  104   sumit  ...     2019-12-12 14:05       2001\n",
              "4  105  satyam  ...     2019-12-12 14:05       2001\n",
              "5  106  rajesh  ...     2019-12-10 14:05       2002\n",
              "\n",
              "[6 rows x 7 columns]"
            ]
          },
          "metadata": {
            "tags": []
          },
          "execution_count": 11
        }
      ]
    },
    {
      "cell_type": "code",
      "metadata": {
        "id": "2cpm1nFpsSNq",
        "colab_type": "code",
        "outputId": "150e9b48-3851-41fe-cda6-9b92732c68a1",
        "colab": {
          "base_uri": "https://localhost:8080/",
          "height": 144
        }
      },
      "source": [
        "df1"
      ],
      "execution_count": 0,
      "outputs": [
        {
          "output_type": "execute_result",
          "data": {
            "text/html": [
              "<div>\n",
              "<style scoped>\n",
              "    .dataframe tbody tr th:only-of-type {\n",
              "        vertical-align: middle;\n",
              "    }\n",
              "\n",
              "    .dataframe tbody tr th {\n",
              "        vertical-align: top;\n",
              "    }\n",
              "\n",
              "    .dataframe thead th {\n",
              "        text-align: right;\n",
              "    }\n",
              "</style>\n",
              "<table border=\"1\" class=\"dataframe\">\n",
              "  <thead>\n",
              "    <tr style=\"text-align: right;\">\n",
              "      <th></th>\n",
              "      <th>cust_ID</th>\n",
              "      <th>name</th>\n",
              "      <th>book_start_time</th>\n",
              "      <th>book_end_time</th>\n",
              "      <th>location</th>\n",
              "      <th>profession</th>\n",
              "      <th>provider_name</th>\n",
              "      <th>email_id</th>\n",
              "    </tr>\n",
              "  </thead>\n",
              "  <tbody>\n",
              "    <tr>\n",
              "      <th>0</th>\n",
              "      <td>2001</td>\n",
              "      <td>ankush</td>\n",
              "      <td>2019-12-12 13:05</td>\n",
              "      <td>2019-12-12 14:05</td>\n",
              "      <td>bangalore</td>\n",
              "      <td>doctor</td>\n",
              "      <td>sumit</td>\n",
              "      <td>sharansumitkumar@gmail.com</td>\n",
              "    </tr>\n",
              "    <tr>\n",
              "      <th>1</th>\n",
              "      <td>2002</td>\n",
              "      <td>Rajesh</td>\n",
              "      <td>2019-12-10 13:05</td>\n",
              "      <td>2019-12-10 14:05</td>\n",
              "      <td>Delhi</td>\n",
              "      <td>electrician</td>\n",
              "      <td>rajesh</td>\n",
              "      <td>ankushbanik1234@gmail.com</td>\n",
              "    </tr>\n",
              "    <tr>\n",
              "      <th>0</th>\n",
              "      <td>2002</td>\n",
              "      <td>Suresh</td>\n",
              "      <td>2019-10-12 13:05:04</td>\n",
              "      <td>2019-10-12 14:05:05</td>\n",
              "      <td>Ajmer</td>\n",
              "      <td>plumber</td>\n",
              "      <td>raja</td>\n",
              "      <td>ankushbanik1234@gmail.com</td>\n",
              "    </tr>\n",
              "  </tbody>\n",
              "</table>\n",
              "</div>"
            ],
            "text/plain": [
              "  cust_ID    name  ... provider_name                    email_id\n",
              "0    2001  ankush  ...         sumit  sharansumitkumar@gmail.com\n",
              "1    2002  Rajesh  ...        rajesh   ankushbanik1234@gmail.com\n",
              "0    2002  Suresh  ...          raja   ankushbanik1234@gmail.com\n",
              "\n",
              "[3 rows x 8 columns]"
            ]
          },
          "metadata": {
            "tags": []
          },
          "execution_count": 28
        }
      ]
    },
    {
      "cell_type": "code",
      "metadata": {
        "id": "O-FPUcsxu8Kn",
        "colab_type": "code",
        "outputId": "e2d800e4-af3d-492d-c1fa-13ff35209501",
        "colab": {
          "base_uri": "https://localhost:8080/",
          "height": 81
        }
      },
      "source": [
        "b"
      ],
      "execution_count": 0,
      "outputs": [
        {
          "output_type": "execute_result",
          "data": {
            "text/html": [
              "<div>\n",
              "<style scoped>\n",
              "    .dataframe tbody tr th:only-of-type {\n",
              "        vertical-align: middle;\n",
              "    }\n",
              "\n",
              "    .dataframe tbody tr th {\n",
              "        vertical-align: top;\n",
              "    }\n",
              "\n",
              "    .dataframe thead th {\n",
              "        text-align: right;\n",
              "    }\n",
              "</style>\n",
              "<table border=\"1\" class=\"dataframe\">\n",
              "  <thead>\n",
              "    <tr style=\"text-align: right;\">\n",
              "      <th></th>\n",
              "      <th>0</th>\n",
              "      <th>1</th>\n",
              "      <th>2</th>\n",
              "      <th>3</th>\n",
              "      <th>4</th>\n",
              "      <th>5</th>\n",
              "      <th>6</th>\n",
              "    </tr>\n",
              "  </thead>\n",
              "  <tbody>\n",
              "    <tr>\n",
              "      <th>0</th>\n",
              "      <td>2002</td>\n",
              "      <td>Suresh</td>\n",
              "      <td>2019-10-12 13:05:04</td>\n",
              "      <td>2019-10-12 14:05:05</td>\n",
              "      <td>Ajmer</td>\n",
              "      <td>raja</td>\n",
              "      <td>ankushbanik1234@gmail.com</td>\n",
              "    </tr>\n",
              "  </tbody>\n",
              "</table>\n",
              "</div>"
            ],
            "text/plain": [
              "      0       1                    2  ...      4     5                          6\n",
              "0  2002  Suresh  2019-10-12 13:05:04  ...  Ajmer  raja  ankushbanik1234@gmail.com\n",
              "\n",
              "[1 rows x 7 columns]"
            ]
          },
          "metadata": {
            "tags": []
          },
          "execution_count": 25
        }
      ]
    },
    {
      "cell_type": "code",
      "metadata": {
        "id": "eqvkmzcAsTVY",
        "colab_type": "code",
        "colab": {}
      },
      "source": [
        "b=pd.DataFrame([[\"2002\",\"Suresh\",\"2019-10-12 13:05:04\",\"2019-10-12 14:05:05\",\"Ajmer\",\"plumber\",\"raja\",\"ankushbanik1234@gmail.com\"]])\n",
        "b.columns=df1.columns\n",
        "df1=df1.append(b)"
      ],
      "execution_count": 0,
      "outputs": []
    },
    {
      "cell_type": "code",
      "metadata": {
        "id": "FvCpxvLhucxL",
        "colab_type": "code",
        "colab": {}
      },
      "source": [
        "df1.to_csv(\"customardata.csv\",index=False)"
      ],
      "execution_count": 0,
      "outputs": []
    },
    {
      "cell_type": "code",
      "metadata": {
        "id": "n9nvPUJIvlF4",
        "colab_type": "code",
        "colab": {}
      },
      "source": [
        ""
      ],
      "execution_count": 0,
      "outputs": []
    }
  ]
}